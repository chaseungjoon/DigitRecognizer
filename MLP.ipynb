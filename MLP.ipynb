{
 "cells": [
  {
   "cell_type": "code",
   "id": "initial_id",
   "metadata": {
    "collapsed": true,
    "ExecuteTime": {
     "end_time": "2025-05-27T06:13:53.044460Z",
     "start_time": "2025-05-27T06:13:31.134009Z"
    }
   },
   "source": [
    "import pandas as pd\n",
    "import numpy as np\n",
    "from tensorflow import keras\n",
    "from tensorflow.keras import layers\n",
    "\n",
    "train = pd.read_csv('train.csv')\n",
    "test = pd.read_csv('test.csv')\n",
    "\n",
    "X = train.drop('label', axis=1).values / 255.0\n",
    "y = train['label'].values\n",
    "X_test = test.values / 255.0\n",
    "\n",
    "y_cat = keras.utils.to_categorical(y, num_classes=10)\n",
    "\n",
    "model = keras.Sequential([\n",
    "    layers.Dense(256, activation='relu', input_shape=(784,)),\n",
    "    layers.Dropout(0.3),\n",
    "    layers.Dense(128, activation='relu'),\n",
    "    layers.Dropout(0.3),\n",
    "    layers.Dense(10, activation='softmax')\n",
    "])\n",
    "\n",
    "model.compile(optimizer='adam',\n",
    "              loss='categorical_crossentropy',\n",
    "              metrics=['accuracy'])\n",
    "\n",
    "model.fit(X, y_cat, batch_size=128, epochs=15, validation_split=0.1)\n",
    "\n",
    "predictions = model.predict(X_test)\n",
    "predicted_labels = np.argmax(predictions, axis=1)\n",
    "\n",
    "submission = pd.DataFrame({\n",
    "    \"ImageId\": np.arange(1, len(predicted_labels)+1),\n",
    "    \"Label\": predicted_labels\n",
    "})\n",
    "submission.to_csv(\"submission_MLP.csv\", index=False)"
   ],
   "outputs": [
    {
     "name": "stdout",
     "output_type": "stream",
     "text": [
      "Epoch 1/15\n"
     ]
    },
    {
     "name": "stderr",
     "output_type": "stream",
     "text": [
      "/Users/chaseungjun/anaconda3/lib/python3.11/site-packages/keras/src/layers/core/dense.py:93: UserWarning: Do not pass an `input_shape`/`input_dim` argument to a layer. When using Sequential models, prefer using an `Input(shape)` object as the first layer in the model instead.\n",
      "  super().__init__(activity_regularizer=activity_regularizer, **kwargs)\n"
     ]
    },
    {
     "name": "stdout",
     "output_type": "stream",
     "text": [
      "\u001B[1m296/296\u001B[0m \u001B[32m━━━━━━━━━━━━━━━━━━━━\u001B[0m\u001B[37m\u001B[0m \u001B[1m2s\u001B[0m 4ms/step - accuracy: 0.7460 - loss: 0.8124 - val_accuracy: 0.9455 - val_loss: 0.1793\n",
      "Epoch 2/15\n",
      "\u001B[1m296/296\u001B[0m \u001B[32m━━━━━━━━━━━━━━━━━━━━\u001B[0m\u001B[37m\u001B[0m \u001B[1m1s\u001B[0m 4ms/step - accuracy: 0.9368 - loss: 0.2126 - val_accuracy: 0.9607 - val_loss: 0.1295\n",
      "Epoch 3/15\n",
      "\u001B[1m296/296\u001B[0m \u001B[32m━━━━━━━━━━━━━━━━━━━━\u001B[0m\u001B[37m\u001B[0m \u001B[1m1s\u001B[0m 4ms/step - accuracy: 0.9537 - loss: 0.1571 - val_accuracy: 0.9664 - val_loss: 0.1090\n",
      "Epoch 4/15\n",
      "\u001B[1m296/296\u001B[0m \u001B[32m━━━━━━━━━━━━━━━━━━━━\u001B[0m\u001B[37m\u001B[0m \u001B[1m1s\u001B[0m 4ms/step - accuracy: 0.9648 - loss: 0.1147 - val_accuracy: 0.9710 - val_loss: 0.0964\n",
      "Epoch 5/15\n",
      "\u001B[1m296/296\u001B[0m \u001B[32m━━━━━━━━━━━━━━━━━━━━\u001B[0m\u001B[37m\u001B[0m \u001B[1m1s\u001B[0m 4ms/step - accuracy: 0.9680 - loss: 0.1005 - val_accuracy: 0.9702 - val_loss: 0.0972\n",
      "Epoch 6/15\n",
      "\u001B[1m296/296\u001B[0m \u001B[32m━━━━━━━━━━━━━━━━━━━━\u001B[0m\u001B[37m\u001B[0m \u001B[1m1s\u001B[0m 4ms/step - accuracy: 0.9733 - loss: 0.0836 - val_accuracy: 0.9726 - val_loss: 0.0878\n",
      "Epoch 7/15\n",
      "\u001B[1m296/296\u001B[0m \u001B[32m━━━━━━━━━━━━━━━━━━━━\u001B[0m\u001B[37m\u001B[0m \u001B[1m2s\u001B[0m 5ms/step - accuracy: 0.9774 - loss: 0.0713 - val_accuracy: 0.9729 - val_loss: 0.0930\n",
      "Epoch 8/15\n",
      "\u001B[1m296/296\u001B[0m \u001B[32m━━━━━━━━━━━━━━━━━━━━\u001B[0m\u001B[37m\u001B[0m \u001B[1m2s\u001B[0m 6ms/step - accuracy: 0.9802 - loss: 0.0629 - val_accuracy: 0.9762 - val_loss: 0.0794\n",
      "Epoch 9/15\n",
      "\u001B[1m296/296\u001B[0m \u001B[32m━━━━━━━━━━━━━━━━━━━━\u001B[0m\u001B[37m\u001B[0m \u001B[1m1s\u001B[0m 5ms/step - accuracy: 0.9791 - loss: 0.0614 - val_accuracy: 0.9755 - val_loss: 0.0843\n",
      "Epoch 10/15\n",
      "\u001B[1m296/296\u001B[0m \u001B[32m━━━━━━━━━━━━━━━━━━━━\u001B[0m\u001B[37m\u001B[0m \u001B[1m1s\u001B[0m 4ms/step - accuracy: 0.9832 - loss: 0.0538 - val_accuracy: 0.9786 - val_loss: 0.0781\n",
      "Epoch 11/15\n",
      "\u001B[1m296/296\u001B[0m \u001B[32m━━━━━━━━━━━━━━━━━━━━\u001B[0m\u001B[37m\u001B[0m \u001B[1m1s\u001B[0m 4ms/step - accuracy: 0.9839 - loss: 0.0476 - val_accuracy: 0.9781 - val_loss: 0.0795\n",
      "Epoch 12/15\n",
      "\u001B[1m296/296\u001B[0m \u001B[32m━━━━━━━━━━━━━━━━━━━━\u001B[0m\u001B[37m\u001B[0m \u001B[1m1s\u001B[0m 4ms/step - accuracy: 0.9852 - loss: 0.0449 - val_accuracy: 0.9786 - val_loss: 0.0783\n",
      "Epoch 13/15\n",
      "\u001B[1m296/296\u001B[0m \u001B[32m━━━━━━━━━━━━━━━━━━━━\u001B[0m\u001B[37m\u001B[0m \u001B[1m1s\u001B[0m 4ms/step - accuracy: 0.9854 - loss: 0.0450 - val_accuracy: 0.9760 - val_loss: 0.0807\n",
      "Epoch 14/15\n",
      "\u001B[1m296/296\u001B[0m \u001B[32m━━━━━━━━━━━━━━━━━━━━\u001B[0m\u001B[37m\u001B[0m \u001B[1m1s\u001B[0m 4ms/step - accuracy: 0.9860 - loss: 0.0406 - val_accuracy: 0.9757 - val_loss: 0.0822\n",
      "Epoch 15/15\n",
      "\u001B[1m296/296\u001B[0m \u001B[32m━━━━━━━━━━━━━━━━━━━━\u001B[0m\u001B[37m\u001B[0m \u001B[1m1s\u001B[0m 4ms/step - accuracy: 0.9886 - loss: 0.0366 - val_accuracy: 0.9793 - val_loss: 0.0808\n",
      "\u001B[1m875/875\u001B[0m \u001B[32m━━━━━━━━━━━━━━━━━━━━\u001B[0m\u001B[37m\u001B[0m \u001B[1m0s\u001B[0m 533us/step\n"
     ]
    }
   ],
   "execution_count": 2
  },
  {
   "metadata": {
    "ExecuteTime": {
     "end_time": "2025-05-27T06:15:11.432751Z",
     "start_time": "2025-05-27T06:15:11.426569Z"
    }
   },
   "cell_type": "code",
   "source": "0.97850",
   "id": "da8e9e5bcdc10bbd",
   "outputs": [
    {
     "data": {
      "text/plain": [
       "0.9785"
      ]
     },
     "execution_count": 3,
     "metadata": {},
     "output_type": "execute_result"
    }
   ],
   "execution_count": 3
  },
  {
   "metadata": {},
   "cell_type": "code",
   "outputs": [],
   "execution_count": null,
   "source": "",
   "id": "d76119a7767bf40d"
  }
 ],
 "metadata": {
  "kernelspec": {
   "display_name": "Python 3",
   "language": "python",
   "name": "python3"
  },
  "language_info": {
   "codemirror_mode": {
    "name": "ipython",
    "version": 2
   },
   "file_extension": ".py",
   "mimetype": "text/x-python",
   "name": "python",
   "nbconvert_exporter": "python",
   "pygments_lexer": "ipython2",
   "version": "2.7.6"
  }
 },
 "nbformat": 4,
 "nbformat_minor": 5
}
