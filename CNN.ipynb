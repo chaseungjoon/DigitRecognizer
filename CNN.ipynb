{
 "cells": [
  {
   "cell_type": "code",
   "id": "initial_id",
   "metadata": {
    "collapsed": true,
    "ExecuteTime": {
     "end_time": "2025-05-27T06:28:12.137488Z",
     "start_time": "2025-05-27T06:27:10.178434Z"
    }
   },
   "source": [
    "import pandas as pd\n",
    "import numpy as np\n",
    "from tensorflow import keras\n",
    "from tensorflow.keras import layers\n",
    "\n",
    "train = pd.read_csv('train.csv')\n",
    "test = pd.read_csv('test.csv')\n",
    "\n",
    "X = train.drop('label', axis=1).values.reshape(-1, 28, 28, 1) / 255.0\n",
    "y = train['label'].values\n",
    "X_test = test.values.reshape(-1, 28, 28, 1) / 255.0\n",
    "\n",
    "y_cat = keras.utils.to_categorical(y, num_classes=10)\n",
    "\n",
    "model = keras.Sequential([\n",
    "    layers.Conv2D(32, kernel_size=(3, 3), activation='relu', input_shape=(28, 28, 1)),\n",
    "    layers.MaxPooling2D(pool_size=(2, 2)),\n",
    "\n",
    "    layers.Conv2D(64, kernel_size=(3, 3), activation='relu'),\n",
    "    layers.MaxPooling2D(pool_size=(2, 2)),\n",
    "\n",
    "    layers.Flatten(),\n",
    "    layers.Dense(128, activation='relu'),\n",
    "    layers.Dropout(0.3),\n",
    "    layers.Dense(10, activation='softmax')\n",
    "])\n",
    "\n",
    "model.compile(optimizer='adam',\n",
    "              loss='categorical_crossentropy',\n",
    "              metrics=['accuracy'])\n",
    "\n",
    "model.fit(X, y_cat, batch_size=128, epochs=10, validation_split=0.1)\n",
    "\n",
    "predictions = model.predict(X_test)\n",
    "predicted_labels = np.argmax(predictions, axis=1)\n",
    "\n",
    "submission = pd.DataFrame({\n",
    "    \"ImageId\": np.arange(1, len(predicted_labels) + 1),\n",
    "    \"Label\": predicted_labels\n",
    "})\n",
    "submission.to_csv(\"submission_CNN.csv\", index=False)"
   ],
   "outputs": [
    {
     "name": "stderr",
     "output_type": "stream",
     "text": [
      "/Users/chaseungjun/anaconda3/lib/python3.11/site-packages/keras/src/layers/convolutional/base_conv.py:113: UserWarning: Do not pass an `input_shape`/`input_dim` argument to a layer. When using Sequential models, prefer using an `Input(shape)` object as the first layer in the model instead.\n",
      "  super().__init__(activity_regularizer=activity_regularizer, **kwargs)\n"
     ]
    },
    {
     "name": "stdout",
     "output_type": "stream",
     "text": [
      "Epoch 1/10\n",
      "\u001B[1m296/296\u001B[0m \u001B[32m━━━━━━━━━━━━━━━━━━━━\u001B[0m\u001B[37m\u001B[0m \u001B[1m5s\u001B[0m 17ms/step - accuracy: 0.7999 - loss: 0.6591 - val_accuracy: 0.9721 - val_loss: 0.0863\n",
      "Epoch 2/10\n",
      "\u001B[1m296/296\u001B[0m \u001B[32m━━━━━━━━━━━━━━━━━━━━\u001B[0m\u001B[37m\u001B[0m \u001B[1m5s\u001B[0m 17ms/step - accuracy: 0.9723 - loss: 0.0914 - val_accuracy: 0.9810 - val_loss: 0.0652\n",
      "Epoch 3/10\n",
      "\u001B[1m296/296\u001B[0m \u001B[32m━━━━━━━━━━━━━━━━━━━━\u001B[0m\u001B[37m\u001B[0m \u001B[1m5s\u001B[0m 18ms/step - accuracy: 0.9796 - loss: 0.0639 - val_accuracy: 0.9833 - val_loss: 0.0456\n",
      "Epoch 4/10\n",
      "\u001B[1m296/296\u001B[0m \u001B[32m━━━━━━━━━━━━━━━━━━━━\u001B[0m\u001B[37m\u001B[0m \u001B[1m6s\u001B[0m 19ms/step - accuracy: 0.9862 - loss: 0.0453 - val_accuracy: 0.9852 - val_loss: 0.0423\n",
      "Epoch 5/10\n",
      "\u001B[1m296/296\u001B[0m \u001B[32m━━━━━━━━━━━━━━━━━━━━\u001B[0m\u001B[37m\u001B[0m \u001B[1m5s\u001B[0m 18ms/step - accuracy: 0.9868 - loss: 0.0402 - val_accuracy: 0.9879 - val_loss: 0.0389\n",
      "Epoch 6/10\n",
      "\u001B[1m296/296\u001B[0m \u001B[32m━━━━━━━━━━━━━━━━━━━━\u001B[0m\u001B[37m\u001B[0m \u001B[1m6s\u001B[0m 19ms/step - accuracy: 0.9890 - loss: 0.0333 - val_accuracy: 0.9869 - val_loss: 0.0406\n",
      "Epoch 7/10\n",
      "\u001B[1m296/296\u001B[0m \u001B[32m━━━━━━━━━━━━━━━━━━━━\u001B[0m\u001B[37m\u001B[0m \u001B[1m6s\u001B[0m 19ms/step - accuracy: 0.9899 - loss: 0.0296 - val_accuracy: 0.9905 - val_loss: 0.0342\n",
      "Epoch 8/10\n",
      "\u001B[1m296/296\u001B[0m \u001B[32m━━━━━━━━━━━━━━━━━━━━\u001B[0m\u001B[37m\u001B[0m \u001B[1m6s\u001B[0m 19ms/step - accuracy: 0.9923 - loss: 0.0241 - val_accuracy: 0.9893 - val_loss: 0.0298\n",
      "Epoch 9/10\n",
      "\u001B[1m296/296\u001B[0m \u001B[32m━━━━━━━━━━━━━━━━━━━━\u001B[0m\u001B[37m\u001B[0m \u001B[1m6s\u001B[0m 20ms/step - accuracy: 0.9923 - loss: 0.0225 - val_accuracy: 0.9879 - val_loss: 0.0366\n",
      "Epoch 10/10\n",
      "\u001B[1m296/296\u001B[0m \u001B[32m━━━━━━━━━━━━━━━━━━━━\u001B[0m\u001B[37m\u001B[0m \u001B[1m6s\u001B[0m 20ms/step - accuracy: 0.9939 - loss: 0.0171 - val_accuracy: 0.9888 - val_loss: 0.0353\n",
      "\u001B[1m875/875\u001B[0m \u001B[32m━━━━━━━━━━━━━━━━━━━━\u001B[0m\u001B[37m\u001B[0m \u001B[1m2s\u001B[0m 2ms/step\n"
     ]
    }
   ],
   "execution_count": 1
  },
  {
   "metadata": {
    "ExecuteTime": {
     "end_time": "2025-05-27T06:28:54.078242Z",
     "start_time": "2025-05-27T06:28:54.072584Z"
    }
   },
   "cell_type": "code",
   "source": "0.98900",
   "id": "28b95c6cabf7fa8c",
   "outputs": [
    {
     "data": {
      "text/plain": [
       "0.989"
      ]
     },
     "execution_count": 2,
     "metadata": {},
     "output_type": "execute_result"
    }
   ],
   "execution_count": 2
  },
  {
   "metadata": {
    "ExecuteTime": {
     "end_time": "2025-05-27T06:46:09.117762Z",
     "start_time": "2025-05-27T06:33:06.205099Z"
    }
   },
   "cell_type": "code",
   "source": [
    "model = keras.Sequential([\n",
    "    layers.Conv2D(32, kernel_size=(3, 3), padding='same', activation='relu', input_shape=(28, 28, 1)),\n",
    "    layers.BatchNormalization(),\n",
    "    layers.Conv2D(32, kernel_size=(3, 3), activation='relu'),\n",
    "    layers.BatchNormalization(),\n",
    "    layers.MaxPooling2D(pool_size=(2, 2)),\n",
    "    layers.Dropout(0.25),\n",
    "\n",
    "    layers.Conv2D(64, kernel_size=(3, 3), padding='same', activation='relu'),\n",
    "    layers.BatchNormalization(),\n",
    "    layers.Conv2D(64, kernel_size=(3, 3), activation='relu'),\n",
    "    layers.BatchNormalization(),\n",
    "    layers.MaxPooling2D(pool_size=(2, 2)),\n",
    "    layers.Dropout(0.25),\n",
    "\n",
    "    layers.Conv2D(128, kernel_size=(3, 3), padding='same', activation='relu'),\n",
    "    layers.BatchNormalization(),\n",
    "    layers.Conv2D(128, kernel_size=(3, 3), activation='relu'),\n",
    "    layers.BatchNormalization(),\n",
    "    layers.MaxPooling2D(pool_size=(2, 2)),\n",
    "    layers.Dropout(0.3),\n",
    "\n",
    "    layers.Flatten(),\n",
    "    layers.Dense(256, activation='relu'),\n",
    "    layers.BatchNormalization(),\n",
    "    layers.Dropout(0.5),\n",
    "    layers.Dense(10, activation='softmax')\n",
    "])\n",
    "\n",
    "model.compile(optimizer='adam',\n",
    "              loss='categorical_crossentropy',\n",
    "              metrics=['accuracy'])\n",
    "\n",
    "model.fit(X, y_cat, batch_size=128, epochs=20, validation_split=0.1)\n",
    "\n",
    "predictions = model.predict(X_test)\n",
    "predicted_labels = np.argmax(predictions, axis=1)\n",
    "\n",
    "submission = pd.DataFrame({\n",
    "    \"ImageId\": np.arange(1, len(predicted_labels) + 1),\n",
    "    \"Label\": predicted_labels\n",
    "})\n",
    "submission.to_csv(\"submission_CNN2.csv\", index=False)"
   ],
   "id": "69db614f110111d0",
   "outputs": [
    {
     "name": "stdout",
     "output_type": "stream",
     "text": [
      "Epoch 1/20\n"
     ]
    },
    {
     "name": "stderr",
     "output_type": "stream",
     "text": [
      "/Users/chaseungjun/anaconda3/lib/python3.11/site-packages/keras/src/layers/convolutional/base_conv.py:113: UserWarning: Do not pass an `input_shape`/`input_dim` argument to a layer. When using Sequential models, prefer using an `Input(shape)` object as the first layer in the model instead.\n",
      "  super().__init__(activity_regularizer=activity_regularizer, **kwargs)\n"
     ]
    },
    {
     "name": "stdout",
     "output_type": "stream",
     "text": [
      "\u001B[1m296/296\u001B[0m \u001B[32m━━━━━━━━━━━━━━━━━━━━\u001B[0m\u001B[37m\u001B[0m \u001B[1m29s\u001B[0m 95ms/step - accuracy: 0.7010 - loss: 1.0162 - val_accuracy: 0.1090 - val_loss: 6.4587\n",
      "Epoch 2/20\n",
      "\u001B[1m296/296\u001B[0m \u001B[32m━━━━━━━━━━━━━━━━━━━━\u001B[0m\u001B[37m\u001B[0m \u001B[1m30s\u001B[0m 103ms/step - accuracy: 0.9658 - loss: 0.1110 - val_accuracy: 0.9360 - val_loss: 0.2459\n",
      "Epoch 3/20\n",
      "\u001B[1m296/296\u001B[0m \u001B[32m━━━━━━━━━━━━━━━━━━━━\u001B[0m\u001B[37m\u001B[0m \u001B[1m31s\u001B[0m 103ms/step - accuracy: 0.9783 - loss: 0.0712 - val_accuracy: 0.9900 - val_loss: 0.0354\n",
      "Epoch 4/20\n",
      "\u001B[1m296/296\u001B[0m \u001B[32m━━━━━━━━━━━━━━━━━━━━\u001B[0m\u001B[37m\u001B[0m \u001B[1m33s\u001B[0m 111ms/step - accuracy: 0.9828 - loss: 0.0621 - val_accuracy: 0.9921 - val_loss: 0.0241\n",
      "Epoch 5/20\n",
      "\u001B[1m296/296\u001B[0m \u001B[32m━━━━━━━━━━━━━━━━━━━━\u001B[0m\u001B[37m\u001B[0m \u001B[1m34s\u001B[0m 115ms/step - accuracy: 0.9864 - loss: 0.0418 - val_accuracy: 0.9914 - val_loss: 0.0296\n",
      "Epoch 6/20\n",
      "\u001B[1m296/296\u001B[0m \u001B[32m━━━━━━━━━━━━━━━━━━━━\u001B[0m\u001B[37m\u001B[0m \u001B[1m36s\u001B[0m 121ms/step - accuracy: 0.9879 - loss: 0.0411 - val_accuracy: 0.9929 - val_loss: 0.0219\n",
      "Epoch 7/20\n",
      "\u001B[1m296/296\u001B[0m \u001B[32m━━━━━━━━━━━━━━━━━━━━\u001B[0m\u001B[37m\u001B[0m \u001B[1m45s\u001B[0m 152ms/step - accuracy: 0.9885 - loss: 0.0365 - val_accuracy: 0.9912 - val_loss: 0.0248\n",
      "Epoch 8/20\n",
      "\u001B[1m296/296\u001B[0m \u001B[32m━━━━━━━━━━━━━━━━━━━━\u001B[0m\u001B[37m\u001B[0m \u001B[1m44s\u001B[0m 149ms/step - accuracy: 0.9895 - loss: 0.0347 - val_accuracy: 0.9929 - val_loss: 0.0223\n",
      "Epoch 9/20\n",
      "\u001B[1m296/296\u001B[0m \u001B[32m━━━━━━━━━━━━━━━━━━━━\u001B[0m\u001B[37m\u001B[0m \u001B[1m42s\u001B[0m 143ms/step - accuracy: 0.9924 - loss: 0.0270 - val_accuracy: 0.9931 - val_loss: 0.0217\n",
      "Epoch 10/20\n",
      "\u001B[1m296/296\u001B[0m \u001B[32m━━━━━━━━━━━━━━━━━━━━\u001B[0m\u001B[37m\u001B[0m \u001B[1m41s\u001B[0m 137ms/step - accuracy: 0.9922 - loss: 0.0279 - val_accuracy: 0.9924 - val_loss: 0.0195\n",
      "Epoch 11/20\n",
      "\u001B[1m296/296\u001B[0m \u001B[32m━━━━━━━━━━━━━━━━━━━━\u001B[0m\u001B[37m\u001B[0m \u001B[1m41s\u001B[0m 139ms/step - accuracy: 0.9912 - loss: 0.0257 - val_accuracy: 0.9924 - val_loss: 0.0235\n",
      "Epoch 12/20\n",
      "\u001B[1m296/296\u001B[0m \u001B[32m━━━━━━━━━━━━━━━━━━━━\u001B[0m\u001B[37m\u001B[0m \u001B[1m40s\u001B[0m 136ms/step - accuracy: 0.9925 - loss: 0.0216 - val_accuracy: 0.9929 - val_loss: 0.0239\n",
      "Epoch 13/20\n",
      "\u001B[1m296/296\u001B[0m \u001B[32m━━━━━━━━━━━━━━━━━━━━\u001B[0m\u001B[37m\u001B[0m \u001B[1m42s\u001B[0m 142ms/step - accuracy: 0.9933 - loss: 0.0190 - val_accuracy: 0.9931 - val_loss: 0.0217\n",
      "Epoch 14/20\n",
      "\u001B[1m296/296\u001B[0m \u001B[32m━━━━━━━━━━━━━━━━━━━━\u001B[0m\u001B[37m\u001B[0m \u001B[1m40s\u001B[0m 137ms/step - accuracy: 0.9924 - loss: 0.0251 - val_accuracy: 0.9943 - val_loss: 0.0172\n",
      "Epoch 15/20\n",
      "\u001B[1m296/296\u001B[0m \u001B[32m━━━━━━━━━━━━━━━━━━━━\u001B[0m\u001B[37m\u001B[0m \u001B[1m40s\u001B[0m 136ms/step - accuracy: 0.9938 - loss: 0.0206 - val_accuracy: 0.9938 - val_loss: 0.0217\n",
      "Epoch 16/20\n",
      "\u001B[1m296/296\u001B[0m \u001B[32m━━━━━━━━━━━━━━━━━━━━\u001B[0m\u001B[37m\u001B[0m \u001B[1m40s\u001B[0m 134ms/step - accuracy: 0.9943 - loss: 0.0165 - val_accuracy: 0.9936 - val_loss: 0.0258\n",
      "Epoch 17/20\n",
      "\u001B[1m296/296\u001B[0m \u001B[32m━━━━━━━━━━━━━━━━━━━━\u001B[0m\u001B[37m\u001B[0m \u001B[1m43s\u001B[0m 147ms/step - accuracy: 0.9954 - loss: 0.0158 - val_accuracy: 0.9921 - val_loss: 0.0269\n",
      "Epoch 18/20\n",
      "\u001B[1m296/296\u001B[0m \u001B[32m━━━━━━━━━━━━━━━━━━━━\u001B[0m\u001B[37m\u001B[0m \u001B[1m41s\u001B[0m 137ms/step - accuracy: 0.9951 - loss: 0.0154 - val_accuracy: 0.9912 - val_loss: 0.0268\n",
      "Epoch 19/20\n",
      "\u001B[1m296/296\u001B[0m \u001B[32m━━━━━━━━━━━━━━━━━━━━\u001B[0m\u001B[37m\u001B[0m \u001B[1m41s\u001B[0m 137ms/step - accuracy: 0.9950 - loss: 0.0158 - val_accuracy: 0.9948 - val_loss: 0.0165\n",
      "Epoch 20/20\n",
      "\u001B[1m296/296\u001B[0m \u001B[32m━━━━━━━━━━━━━━━━━━━━\u001B[0m\u001B[37m\u001B[0m \u001B[1m40s\u001B[0m 137ms/step - accuracy: 0.9946 - loss: 0.0170 - val_accuracy: 0.9929 - val_loss: 0.0223\n",
      "\u001B[1m875/875\u001B[0m \u001B[32m━━━━━━━━━━━━━━━━━━━━\u001B[0m\u001B[37m\u001B[0m \u001B[1m8s\u001B[0m 10ms/step\n"
     ]
    }
   ],
   "execution_count": 3
  },
  {
   "metadata": {
    "ExecuteTime": {
     "end_time": "2025-05-27T06:49:25.201213Z",
     "start_time": "2025-05-27T06:49:25.197911Z"
    }
   },
   "cell_type": "code",
   "source": "0.99150",
   "id": "fa71d1a7e43ac2fb",
   "outputs": [
    {
     "data": {
      "text/plain": [
       "0.9915"
      ]
     },
     "execution_count": 5,
     "metadata": {},
     "output_type": "execute_result"
    }
   ],
   "execution_count": 5
  },
  {
   "metadata": {},
   "cell_type": "code",
   "outputs": [],
   "execution_count": null,
   "source": "",
   "id": "df87554da5edaecd"
  }
 ],
 "metadata": {
  "kernelspec": {
   "display_name": "Python 3",
   "language": "python",
   "name": "python3"
  },
  "language_info": {
   "codemirror_mode": {
    "name": "ipython",
    "version": 2
   },
   "file_extension": ".py",
   "mimetype": "text/x-python",
   "name": "python",
   "nbconvert_exporter": "python",
   "pygments_lexer": "ipython2",
   "version": "2.7.6"
  }
 },
 "nbformat": 4,
 "nbformat_minor": 5
}
